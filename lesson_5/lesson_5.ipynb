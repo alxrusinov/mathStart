{
  "nbformat": 4,
  "nbformat_minor": 0,
  "metadata": {
    "colab": {
      "name": "lesson_5",
      "provenance": [],
      "collapsed_sections": []
    },
    "language_info": {
      "codemirror_mode": {
        "name": "ipython",
        "version": 3
      },
      "file_extension": ".py",
      "mimetype": "text/x-python",
      "name": "python",
      "nbconvert_exporter": "python",
      "pygments_lexer": "ipython3",
      "version": "3.6.0"
    },
    "kernelspec": {
      "display_name": "Python 3",
      "language": "python",
      "name": "python3"
    }
  },
  "cells": [
    {
      "cell_type": "code",
      "metadata": {
        "id": "sKsQbEPkJG2l"
      },
      "source": [
        "%matplotlib inline\n",
        "import numpy as np\n",
        "import matplotlib.pyplot as plt\n",
        "import matplotlib.mlab as mlab\n",
        "from math import factorial, sqrt\n",
        "import itertools"
      ],
      "execution_count": 117,
      "outputs": []
    },
    {
      "cell_type": "markdown",
      "metadata": {
        "id": "bcR68jpoLHo8"
      },
      "source": [
        "# Задание 1"
      ]
    },
    {
      "cell_type": "code",
      "metadata": {
        "colab": {
          "base_uri": "https://localhost:8080/"
        },
        "id": "7kFqZpx1LLzg",
        "outputId": "40784143-3a40-4175-c8cc-5c1529c1b503"
      },
      "source": [
        "def roulette():\n",
        "    x = np.random.uniform(0, 36)\n",
        "    return int(x)\n",
        "\n",
        "print(roulette())"
      ],
      "execution_count": 30,
      "outputs": [
        {
          "output_type": "stream",
          "text": [
            "14\n"
          ],
          "name": "stdout"
        }
      ]
    },
    {
      "cell_type": "markdown",
      "metadata": {
        "id": "LwV8rFd5QTbV"
      },
      "source": [
        "# Задание 2"
      ]
    },
    {
      "cell_type": "markdown",
      "metadata": {
        "id": "y2z0AMBiQV_1"
      },
      "source": [
        "## 1. Сложение / умножение вероятностей"
      ]
    },
    {
      "cell_type": "code",
      "metadata": {
        "colab": {
          "base_uri": "https://localhost:8080/"
        },
        "id": "VNiUHzCEQiuY",
        "outputId": "101f3d70-7e0c-49f8-ea3c-92d8d3d82c49"
      },
      "source": [
        "# Сложение вероятностей\n",
        "# Найти вероятность, что на рулетке выпадет 0 или 3 = 1/37 + 1/37 = 2/37\n",
        "# Т.е. при 1000 повторениях 0 или 3 должны выпасть примерно 54 раза\n",
        "\n",
        "k = 0\n",
        "for i in range(1000):\n",
        "  x = roulette()\n",
        "  if x == 0 or x == 3:\n",
        "    k += 1\n",
        "\n",
        "print(k)"
      ],
      "execution_count": 60,
      "outputs": [
        {
          "output_type": "stream",
          "text": [
            "54\n"
          ],
          "name": "stdout"
        }
      ]
    },
    {
      "cell_type": "markdown",
      "metadata": {
        "id": "cGPhRjNrTizK"
      },
      "source": [
        "## 2. Гистограмма распределения суммы случайных чисел"
      ]
    },
    {
      "cell_type": "code",
      "metadata": {
        "colab": {
          "base_uri": "https://localhost:8080/",
          "height": 346
        },
        "id": "jfmKZB2aTqDP",
        "outputId": "df3ee561-568b-49f6-bb0b-bd319718d032"
      },
      "source": [
        "def get_random_list():\n",
        "  result = []\n",
        "  for i in range(10):\n",
        "    x = np.random.rand(10)\n",
        "    result.append(x.sum())\n",
        "  return result\n",
        "\n",
        "x = get_random_list()\n",
        "print(x)\n",
        "print(np.mean(x), np.var(x))\n",
        "num_bins = 10\n",
        "n, bins, patches = plt.hist(x, num_bins)\n",
        "plt.xlabel('x')\n",
        "plt.ylabel('Probability')\n",
        "plt.title('Histogram')"
      ],
      "execution_count": 76,
      "outputs": [
        {
          "output_type": "stream",
          "text": [
            "[6.633610852662426, 4.997632575499499, 5.454728934953244, 4.065229406840011, 4.18548988089518, 6.36621037993691, 5.9785638059889745, 3.8718045631638187, 5.965392375767125, 5.047342280196383]\n",
            "5.256600505590357 0.8785419627207945\n"
          ],
          "name": "stdout"
        },
        {
          "output_type": "execute_result",
          "data": {
            "text/plain": [
              "Text(0.5, 1.0, 'Histogram')"
            ]
          },
          "metadata": {
            "tags": []
          },
          "execution_count": 76
        },
        {
          "output_type": "display_data",
          "data": {
            "image/png": "[encoded data removed]",
            "text/plain": [
              "<Figure size 432x288 with 1 Axes>"
            ]
          },
          "metadata": {
            "tags": [],
            "needs_background": "light"
          }
        }
      ]
    },
    {
      "cell_type": "markdown",
      "metadata": {
        "id": "MpGrtZS5Yu65"
      },
      "source": [
        "# Задание 3"
      ]
    },
    {
      "cell_type": "markdown",
      "metadata": {
        "id": "ogao7t3ZYx3d"
      },
      "source": [
        "## 1. Монте-Карло"
      ]
    },
    {
      "cell_type": "code",
      "metadata": {
        "colab": {
          "base_uri": "https://localhost:8080/"
        },
        "id": "LpGcwVF5bJKR",
        "outputId": "9297b62f-051b-4444-aa72-019c87f9b630"
      },
      "source": [
        "def selection(k,n):\n",
        "  return factorial(n)/(factorial(k)*factorial(n-k)*(2**n))\n",
        "\n",
        "def monte_carlo(k, n):\n",
        "  k_test, n_test = 0, 10000\n",
        "\n",
        "  x = np.zeros(n_test, dtype='int')\n",
        "  for i in range(n):\n",
        "    x += np.random.randint(0, 2, n_test)\n",
        "\n",
        "\n",
        "  for i in range(0, n_test):\n",
        "      if x[i] == k:\n",
        "          k_test += 1\n",
        "  print(k_test, n_test, k_test/n_test)\n",
        "\n",
        "monte_carlo(2,4)\n",
        "selection(2,4)"
      ],
      "execution_count": 93,
      "outputs": [
        {
          "output_type": "stream",
          "text": [
            "3712 10000 0.3712\n"
          ],
          "name": "stdout"
        },
        {
          "output_type": "execute_result",
          "data": {
            "text/plain": [
              "0.375"
            ]
          },
          "metadata": {
            "tags": []
          },
          "execution_count": 93
        }
      ]
    },
    {
      "cell_type": "markdown",
      "metadata": {
        "id": "toCOi8lueCci"
      },
      "source": [
        "## 2. Другие значения k, n"
      ]
    },
    {
      "cell_type": "code",
      "metadata": {
        "colab": {
          "base_uri": "https://localhost:8080/"
        },
        "id": "YEbAcKuqeOS4",
        "outputId": "e0a675b5-46d9-4ca7-8d99-085a4345ceda"
      },
      "source": [
        "monte_carlo(3,12)\n",
        "selection(3,12)"
      ],
      "execution_count": 96,
      "outputs": [
        {
          "output_type": "stream",
          "text": [
            "583 10000 0.0583\n"
          ],
          "name": "stdout"
        },
        {
          "output_type": "execute_result",
          "data": {
            "text/plain": [
              "0.0537109375"
            ]
          },
          "metadata": {
            "tags": []
          },
          "execution_count": 96
        }
      ]
    },
    {
      "cell_type": "markdown",
      "metadata": {
        "id": "0aeH1FHZiUvl"
      },
      "source": [
        "# Задание 4"
      ]
    },
    {
      "cell_type": "code",
      "metadata": {
        "id": "gp-ZKlKkiZxp"
      },
      "source": [
        "# Размещения (при len(data) == n - перестановки)\n",
        "def permutations(data, n):\n",
        "  for p in itertools.permutations(data,n):\n",
        "    print(''.join(str(x) for x in p))\n",
        "\n",
        " # Сочетания\n",
        "def combinations(data, n):\n",
        "  for p in itertools.combinations(data,n):\n",
        "    print(''.join(p))\n",
        "\n"
      ],
      "execution_count": 99,
      "outputs": []
    },
    {
      "cell_type": "code",
      "metadata": {
        "colab": {
          "base_uri": "https://localhost:8080/"
        },
        "id": "bC5Bwppg3DqE",
        "outputId": "e9b03c94-fa7b-4c63-e68d-f8536b4031cb"
      },
      "source": [
        "permutations('01234', 2)\n",
        "print('=' * 22)\n",
        "permutations('012345', 3)\n",
        "print('=' * 22)\n",
        "combinations('01234', 2)\n",
        "print('=' * 22)\n",
        "combinations('012345', 3)"
      ],
      "execution_count": 105,
      "outputs": [
        {
          "output_type": "stream",
          "text": [
            "01\n",
            "02\n",
            "03\n",
            "04\n",
            "10\n",
            "12\n",
            "13\n",
            "14\n",
            "20\n",
            "21\n",
            "23\n",
            "24\n",
            "30\n",
            "31\n",
            "32\n",
            "34\n",
            "40\n",
            "41\n",
            "42\n",
            "43\n",
            "======================\n",
            "012\n",
            "013\n",
            "014\n",
            "015\n",
            "021\n",
            "023\n",
            "024\n",
            "025\n",
            "031\n",
            "032\n",
            "034\n",
            "035\n",
            "041\n",
            "042\n",
            "043\n",
            "045\n",
            "051\n",
            "052\n",
            "053\n",
            "054\n",
            "102\n",
            "103\n",
            "104\n",
            "105\n",
            "120\n",
            "123\n",
            "124\n",
            "125\n",
            "130\n",
            "132\n",
            "134\n",
            "135\n",
            "140\n",
            "142\n",
            "143\n",
            "145\n",
            "150\n",
            "152\n",
            "153\n",
            "154\n",
            "201\n",
            "203\n",
            "204\n",
            "205\n",
            "210\n",
            "213\n",
            "214\n",
            "215\n",
            "230\n",
            "231\n",
            "234\n",
            "235\n",
            "240\n",
            "241\n",
            "243\n",
            "245\n",
            "250\n",
            "251\n",
            "253\n",
            "254\n",
            "301\n",
            "302\n",
            "304\n",
            "305\n",
            "310\n",
            "312\n",
            "314\n",
            "315\n",
            "320\n",
            "321\n",
            "324\n",
            "325\n",
            "340\n",
            "341\n",
            "342\n",
            "345\n",
            "350\n",
            "351\n",
            "352\n",
            "354\n",
            "401\n",
            "402\n",
            "403\n",
            "405\n",
            "410\n",
            "412\n",
            "413\n",
            "415\n",
            "420\n",
            "421\n",
            "423\n",
            "425\n",
            "430\n",
            "431\n",
            "432\n",
            "435\n",
            "450\n",
            "451\n",
            "452\n",
            "453\n",
            "501\n",
            "502\n",
            "503\n",
            "504\n",
            "510\n",
            "512\n",
            "513\n",
            "514\n",
            "520\n",
            "521\n",
            "523\n",
            "524\n",
            "530\n",
            "531\n",
            "532\n",
            "534\n",
            "540\n",
            "541\n",
            "542\n",
            "543\n",
            "======================\n",
            "01\n",
            "02\n",
            "03\n",
            "04\n",
            "12\n",
            "13\n",
            "14\n",
            "23\n",
            "24\n",
            "34\n",
            "======================\n",
            "012\n",
            "013\n",
            "014\n",
            "015\n",
            "023\n",
            "024\n",
            "025\n",
            "034\n",
            "035\n",
            "045\n",
            "123\n",
            "124\n",
            "125\n",
            "134\n",
            "135\n",
            "145\n",
            "234\n",
            "235\n",
            "245\n",
            "345\n"
          ],
          "name": "stdout"
        }
      ]
    },
    {
      "cell_type": "markdown",
      "metadata": {
        "id": "WGnvpPqV4ono"
      },
      "source": [
        "# Задание 5"
      ]
    },
    {
      "cell_type": "code",
      "metadata": {
        "id": "H1qEG0MXJG2u",
        "colab": {
          "base_uri": "https://localhost:8080/",
          "height": 418
        },
        "outputId": "1d24247c-a138-4d67-ebd3-532eef613a70"
      },
      "source": [
        "n = 100\n",
        "r = 0.7\n",
        "x = np.random.rand(n)\n",
        "y = r*x + (1 - r)*np.random.rand(n)\n",
        "plt.plot(x, y, 'o')\n",
        "plt.xlabel('x')\n",
        "plt.ylabel('y')\n",
        "plt.grid(True)\n",
        "\n",
        "a = (np.sum(x)*np.sum(y) - n*np.sum(x*y))/(np.sum(x)*np.sum(x) - n*np.sum(x*x))\n",
        "b = (np.sum(y) - a*np.sum(x))/n\n",
        "\n",
        "A = np.vstack([x, np.ones(len(x))]).T\n",
        "a1, b1 = np.linalg.lstsq(A, y)[0]\n",
        "\n",
        "x_mean = np.mean(x)\n",
        "y_mean = np.mean(y)\n",
        "c = np.sum((x - x_mean)*(y - y_mean)) / sqrt(np.sum((x - x_mean)**2)*np.sum((y - y_mean)**2))\n",
        "C = np.corrcoef(x, y)[0][1]\n",
        "\n",
        "print(f'manual corrcoef is {c}')\n",
        "print(f'corrcoef from lib {C}')\n",
        "\n",
        "print(a, b)\n",
        "print(a1, b1)\n",
        "plt.plot([0, 1], [b, a + b])\n",
        "plt.show()"
      ],
      "execution_count": 121,
      "outputs": [
        {
          "output_type": "stream",
          "text": [
            "manual corrcoef is 0.8818656627931413\n",
            "corrcoef from lib 0.8818656627931412\n",
            "0.6312721464246595 0.1807950246043571\n",
            "0.6312721464246588 0.18079502460435745\n"
          ],
          "name": "stdout"
        },
        {
          "output_type": "stream",
          "text": [
            "/usr/local/lib/python3.6/dist-packages/ipykernel_launcher.py:14: FutureWarning: `rcond` parameter will change to the default of machine precision times ``max(M, N)`` where M and N are the input matrix dimensions.\n",
            "To use the future default and silence this warning we advise to pass `rcond=None`, to keep using the old, explicitly pass `rcond=-1`.\n",
            "  \n"
          ],
          "name": "stderr"
        },
        {
          "output_type": "display_data",
          "data": {
            "image/png": "[encoded data removed]",
            "text/plain": [
              "<Figure size 432x288 with 1 Axes>"
            ]
          },
          "metadata": {
            "tags": [],
            "needs_background": "light"
          }
        }
      ]
    }
  ]
}