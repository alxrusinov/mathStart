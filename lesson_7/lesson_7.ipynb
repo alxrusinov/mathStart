{
  "nbformat": 4,
  "nbformat_minor": 0,
  "metadata": {
    "colab": {
      "name": "lesson_7.ipynb",
      "provenance": [],
      "collapsed_sections": []
    },
    "kernelspec": {
      "name": "python3",
      "display_name": "Python 3"
    }
  },
  "cells": [
    {
      "cell_type": "code",
      "metadata": {
        "id": "h4moTNz8Ke5M"
      },
      "source": [
        "import scipy\n",
        "import numpy as np\n",
        "import scipy.linalg\n",
        "import matplotlib.pyplot as plt"
      ],
      "execution_count": 40,
      "outputs": []
    },
    {
      "cell_type": "markdown",
      "metadata": {
        "id": "UVKhMk8GsDJr"
      },
      "source": [
        "## Решить (задание 6.1)"
      ]
    },
    {
      "cell_type": "code",
      "metadata": {
        "colab": {
          "base_uri": "https://localhost:8080/"
        },
        "id": "WuKWuxunsLuB",
        "outputId": "17a3e2e0-5359-4c88-ef72-bebdb0608834"
      },
      "source": [
        "A = np.array([[1,2,3],[4,0,6],[7,8,9]])\n",
        "B = np.array([12,2,1])\n",
        "X = np.linalg.solve(A,B)\n",
        "print(X)"
      ],
      "execution_count": 41,
      "outputs": [
        {
          "output_type": "stream",
          "text": [
            "[-9.2         0.9         6.46666667]\n"
          ],
          "name": "stdout"
        }
      ]
    },
    {
      "cell_type": "markdown",
      "metadata": {
        "id": "h5yEKs8noaxW"
      },
      "source": [
        "## Найти псевдорешение (задание 6.2)\n",
        "\n"
      ]
    },
    {
      "cell_type": "code",
      "metadata": {
        "colab": {
          "base_uri": "https://localhost:8080/"
        },
        "id": "FZLb1ZBPKqC-",
        "outputId": "599943b8-a4a9-4c17-eaf7-440595153940"
      },
      "source": [
        "A = np.array([[1,2,-1],[3,-4,0],[8,-5,2],[2,0,-5],[11,4,-7]])\n",
        "B = np.array([1,7,12,7,15])\n",
        "x, residual, rank, a = np.linalg.lstsq(A,B, rcond=None)\n",
        "print(x)"
      ],
      "execution_count": 42,
      "outputs": [
        {
          "output_type": "stream",
          "text": [
            "[ 1.13919353 -0.90498444 -0.9009803 ]\n"
          ],
          "name": "stdout"
        }
      ]
    },
    {
      "cell_type": "markdown",
      "metadata": {
        "id": "6CK5AMyDoybT"
      },
      "source": [
        "## Сколько решений имеет линейная система (задание 6.3)"
      ]
    },
    {
      "cell_type": "code",
      "metadata": {
        "colab": {
          "base_uri": "https://localhost:8080/"
        },
        "id": "VmPTsz3dr0Uc",
        "outputId": "e2290054-1bac-4c21-9ed7-cd3d583da8a6"
      },
      "source": [
        "A = np.array([[1,2,3],[4,5,6],[7,8,9]])\n",
        "B = np.array([[12,1,1]])\n",
        "print(np.linalg.det(A)) \n",
        "C = np.concatenate((A,B.T), axis=1)\n",
        "print(np.linalg.matrix_rank(A, 0.0001), np.linalg.matrix_rank(C, 0.0001))\n",
        "# Определитель = 0 и ранг исходной матрицы меньше ранга расширенной - решений не имеет\n",
        "B1 = np.array([[1,1,1]])\n",
        "C1 = np.concatenate((A,B1.T), axis=1)\n",
        "print(np.linalg.matrix_rank(A, 0.0001), np.linalg.matrix_rank(C1, 0.0001))\n",
        "# ранг исходной и расширенной матрицы равны, ранг матрицы меньше числа неизвестных - имеет множество решений"
      ],
      "execution_count": 43,
      "outputs": [
        {
          "output_type": "stream",
          "text": [
            "0.0\n",
            "2 3\n",
            "2 2\n"
          ],
          "name": "stdout"
        }
      ]
    },
    {
      "cell_type": "markdown",
      "metadata": {
        "id": "t5ibiHJPxw14"
      },
      "source": [
        "## LU-разложение (задание 6.4)"
      ]
    },
    {
      "cell_type": "code",
      "metadata": {
        "colab": {
          "base_uri": "https://localhost:8080/"
        },
        "id": "RTkr4jEqx6Ra",
        "outputId": "a7f6876b-54e1-4ff9-acbb-9e7c1704f8f8"
      },
      "source": [
        "A = np.array([[1,2,3],[2,16,21],[4,28,73]])\n",
        "B = np.array([1,2,3])\n",
        "det_A = np.linalg.det(A)\n",
        "\n",
        "P, L, U = scipy.linalg.lu(A)\n",
        "print(P)\n",
        "print(L)\n",
        "print(U)\n",
        "print('det A: ', det_A)\n",
        "print('Решение: ', np.linalg.solve(A,B))"
      ],
      "execution_count": 44,
      "outputs": [
        {
          "output_type": "stream",
          "text": [
            "[[0. 1. 0.]\n",
            " [0. 0. 1.]\n",
            " [1. 0. 0.]]\n",
            "[[ 1.    0.    0.  ]\n",
            " [ 0.25  1.    0.  ]\n",
            " [ 0.5  -0.4   1.  ]]\n",
            "[[  4.    28.    73.  ]\n",
            " [  0.    -5.   -15.25]\n",
            " [  0.     0.   -21.6 ]]\n",
            "det A:  432.00000000000017\n",
            "Решение:  [ 1.01388889  0.03472222 -0.02777778]\n"
          ],
          "name": "stdout"
        }
      ]
    },
    {
      "cell_type": "markdown",
      "metadata": {
        "id": "3djmrQcHGMod"
      },
      "source": [
        "## Найти нормальное псевдорешение (задание  6.5)"
      ]
    },
    {
      "cell_type": "code",
      "metadata": {
        "id": "fPgV1Wo7GUOs"
      },
      "source": [
        "def Q(x, y, z):\n",
        "    return (x**2 + y**2 + z**2)"
      ],
      "execution_count": 45,
      "outputs": []
    },
    {
      "cell_type": "code",
      "metadata": {
        "colab": {
          "base_uri": "https://localhost:8080/"
        },
        "id": "uFWs1N87Gtbr",
        "outputId": "9c27de11-2869-4275-ad37-bfb9c41f05cc"
      },
      "source": [
        "A = np.array([[1, 2, -1], [8,-5,2]])\n",
        "B = np.array([1,12])\n",
        "x, residual, rank, a = np.linalg.lstsq(A, B, rcond=None)\n",
        "print(x)"
      ],
      "execution_count": 46,
      "outputs": [
        {
          "output_type": "stream",
          "text": [
            "[ 1.38191882 -0.18081181  0.0202952 ]\n"
          ],
          "name": "stdout"
        }
      ]
    },
    {
      "cell_type": "markdown",
      "metadata": {
        "id": "UfWnofCxjKT8"
      },
      "source": [
        "## Найдите одно из псевдорешений вырожденной системы (задание 6.6)"
      ]
    },
    {
      "cell_type": "code",
      "metadata": {
        "colab": {
          "base_uri": "https://localhost:8080/"
        },
        "id": "O2JPdVm5jPn6",
        "outputId": "fd68014e-931d-4d4b-a8d1-b99c3833a75a"
      },
      "source": [
        "A = np.array([[1,2,3],[4,5,6],[7,8,9]])\n",
        "B = np.array([2,5,11])\n",
        "\n",
        "Q, R = np.linalg.qr(A)\n",
        "\n",
        "print(A)\n",
        "print(Q)\n",
        "print(R)"
      ],
      "execution_count": 48,
      "outputs": [
        {
          "output_type": "stream",
          "text": [
            "[[1 2 3]\n",
            " [4 5 6]\n",
            " [7 8 9]]\n",
            "[[-0.12309149  0.90453403  0.40824829]\n",
            " [-0.49236596  0.30151134 -0.81649658]\n",
            " [-0.86164044 -0.30151134  0.40824829]]\n",
            "[[-8.12403840e+00 -9.60113630e+00 -1.10782342e+01]\n",
            " [ 0.00000000e+00  9.04534034e-01  1.80906807e+00]\n",
            " [ 0.00000000e+00  0.00000000e+00 -7.58790979e-16]]\n"
          ],
          "name": "stdout"
        }
      ]
    },
    {
      "cell_type": "code",
      "metadata": {
        "colab": {
          "base_uri": "https://localhost:8080/"
        },
        "id": "NuW-ZnzZmI2a",
        "outputId": "2d8e782f-6d2c-4ad3-8e79-f349de1e07b0"
      },
      "source": [
        "R1 = R[:2, :2]\n",
        "B1 = np.dot(np.transpose(Q), B)[:2]\n",
        "X1 = np.linalg.solve(R1, B1)\n",
        "X = np.append(X1, 0)\n",
        "result = np.linalg.norm(X)\n",
        "print('Одно из псевдорешений: ', result)"
      ],
      "execution_count": 55,
      "outputs": [
        {
          "output_type": "stream",
          "text": [
            "Одно из псевдорешений:  1.499999999999996\n"
          ],
          "name": "stdout"
        }
      ]
    }
  ]
}